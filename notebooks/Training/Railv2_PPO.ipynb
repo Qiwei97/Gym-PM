{
 "cells": [
  {
   "cell_type": "markdown",
   "metadata": {
    "id": "p7EbF9UrOomz",
    "jp-MarkdownHeadingCollapsed": true,
    "tags": []
   },
   "source": [
    "# Imports"
   ]
  },
  {
   "cell_type": "code",
   "execution_count": 1,
   "metadata": {
    "colab": {
     "base_uri": "https://localhost:8080/"
    },
    "id": "AX1qYjGZOom4",
    "outputId": "57f569e4-a1f4-49d3-948b-4557de18c7a6"
   },
   "outputs": [],
   "source": [
    "# %%bash\n",
    "\n",
    "# git clone https://github.com/Qiwei97/Gym-PM.git\n",
    "# cd Gym-PM\n",
    "# pip install -e ."
   ]
  },
  {
   "cell_type": "code",
   "execution_count": 2,
   "metadata": {
    "id": "8Bsum-WvOom7"
   },
   "outputs": [],
   "source": [
    "# Import Modules\n",
    "import numpy as np\n",
    "import gym\n",
    "from gym.wrappers.normalize import NormalizeReward\n",
    "\n",
    "import gym_pm\n",
    "from gym_pm.utils import create_data, update_boundaries, evaluate_baseline, evaluate_policy, plot_metrics\n",
    "from gym_pm.envs import Railv2_Env\n",
    "\n",
    "import ray\n",
    "from ray.tune.registry import register_env\n",
    "from ray.rllib.agents import ppo"
   ]
  },
  {
   "cell_type": "markdown",
   "metadata": {
    "id": "D8VIJ8S8OonD",
    "jp-MarkdownHeadingCollapsed": true,
    "tags": []
   },
   "source": [
    "# Environment"
   ]
  },
  {
   "cell_type": "code",
   "execution_count": 3,
   "metadata": {},
   "outputs": [],
   "source": [
    "def env_wrapper(env_config):\n",
    "\n",
    "  wrapped_env = Railv2_Env(**env_config) # Use the appropriate env\n",
    "  wrapped_env = NormalizeReward(wrapped_env)\n",
    "\n",
    "  return wrapped_env  # return an env instance\n",
    "\n",
    "env_name = \"Rail-v2\"\n",
    "register_env(env_name, env_wrapper)"
   ]
  },
  {
   "cell_type": "code",
   "execution_count": 4,
   "metadata": {},
   "outputs": [],
   "source": [
    "# # Update the data (Optional)\n",
    "# # If the pickle files do not exist, please run the below code.\n",
    "# data = 'PdM2'\n",
    "# create_data(data, split='Train', save=True)\n",
    "# create_data(data, split='Test', save=True)\n",
    "# update_boundaries(data, save=True)"
   ]
  },
  {
   "cell_type": "markdown",
   "metadata": {
    "tags": []
   },
   "source": [
    "# Training"
   ]
  },
  {
   "cell_type": "code",
   "execution_count": 5,
   "metadata": {
    "colab": {
     "base_uri": "https://localhost:8080/"
    },
    "id": "h5oozfcoRmbj",
    "outputId": "fb0d6dba-0177-4ce7-e228-08128b6093b9"
   },
   "outputs": [
    {
     "name": "stderr",
     "output_type": "stream",
     "text": [
      "2022-03-18 08:42:40,021\tWARNING ppo.py:231 -- `train_batch_size` (4000) cannot be achieved with your other settings (num_workers=16 num_envs_per_worker=1 rollout_fragment_length=200)! Auto-adjusting `rollout_fragment_length` to 250.\n",
      "2022-03-18 08:42:54,902\tINFO trainable.py:130 -- Trainable.setup took 14.881 seconds. If your trainable is slow to initialize, consider setting reuse_actors=True to reduce actor creation overheads.\n"
     ]
    }
   ],
   "source": [
    "config = ppo.DEFAULT_CONFIG.copy()\n",
    "# Training Params\n",
    "config['seed'] = 1\n",
    "config['batch_mode'] = 'complete_episodes'\n",
    "config['exploration_config'] = {'type': 'SoftQ'}\n",
    "config['entropy_coeff'] = 0.002\n",
    "config['vf_clip_param'] = 1e5\n",
    "config['kl_target'] = 0.03\n",
    "# Multiprocessing\n",
    "config[\"num_gpus\"] = 0\n",
    "config[\"num_workers\"] = 16\n",
    "# Preprocessing\n",
    "config[\"observation_filter\"] = 'MeanStdFilter'\n",
    "config['preprocessor_pref'] = 'rllib'\n",
    "\n",
    "trainer = ppo.PPOTrainer(config=config, env=env_name)"
   ]
  },
  {
   "cell_type": "code",
   "execution_count": 6,
   "metadata": {},
   "outputs": [],
   "source": [
    "# # Hyperparameter Tuning\n",
    "\n",
    "# config['env'] = env_name\n",
    "\n",
    "# analysis = ray.tune.run(\n",
    "#     ppo.PPOTrainer,\n",
    "#     config=config,\n",
    "#     local_dir='Scripts/Tuning',\n",
    "#     mode='max',\n",
    "#     verbose=2,\n",
    "#     stop={\"episode_reward_mean\": 100}\n",
    "#     )"
   ]
  },
  {
   "cell_type": "code",
   "execution_count": 7,
   "metadata": {
    "colab": {
     "base_uri": "https://localhost:8080/",
     "height": 575
    },
    "id": "VM4yFmfNAmLp",
    "outputId": "aae51a70-4621-4d91-f850-93bf55420959"
   },
   "outputs": [
    {
     "name": "stderr",
     "output_type": "stream",
     "text": [
      "2022-03-18 08:43:13,607\tWARNING deprecation.py:46 -- DeprecationWarning: `slice` has been deprecated. Use `SampleBatch[start:stop]` instead. This will raise an error in the future!\n",
      "\u001b[2m\u001b[36m(RolloutWorker pid=6474)\u001b[0m 2022-03-18 08:44:40,630\tWARNING deprecation.py:46 -- DeprecationWarning: `clear_buffer` has been deprecated. Use `Filter.reset_buffer()` instead. This will raise an error in the future!\n"
     ]
    },
    {
     "name": "stdout",
     "output_type": "stream",
     "text": [
      "Iter: 10 Reward: 562.02\n",
      "Iter: 20 Reward: 611.04\n",
      "Iter: 30 Reward: 678.19\n",
      "Iter: 40 Reward: 743.98\n",
      "Iter: 50 Reward: 804.21\n",
      "Iter: 60 Reward: 851.88\n",
      "Iter: 70 Reward: 889.68\n",
      "Iter: 80 Reward: 931.56\n",
      "Iter: 90 Reward: 963.56\n",
      "Iter: 100 Reward: 991.66\n",
      "Iter: 110 Reward: 1023.31\n",
      "Iter: 120 Reward: 1044.99\n",
      "Iter: 130 Reward: 1070.01\n",
      "Iter: 140 Reward: 1094.11\n",
      "Iter: 150 Reward: 1109.04\n",
      "Iter: 160 Reward: 1122.22\n",
      "Iter: 170 Reward: 1143.64\n",
      "Iter: 180 Reward: 1163.08\n",
      "Iter: 190 Reward: 1176.46\n",
      "Iter: 200 Reward: 1184.06\n",
      "Iter: 210 Reward: 1196.90\n",
      "Iter: 220 Reward: 1209.02\n",
      "Iter: 230 Reward: 1219.65\n",
      "Iter: 240 Reward: 1227.87\n",
      "Iter: 250 Reward: 1236.00\n",
      "Iter: 260 Reward: 1247.03\n",
      "Iter: 270 Reward: 1258.48\n",
      "Iter: 280 Reward: 1266.10\n",
      "Iter: 290 Reward: 1273.32\n",
      "Iter: 300 Reward: 1281.14\n",
      "Iter: 310 Reward: 1289.33\n",
      "Iter: 320 Reward: 1295.90\n",
      "Iter: 330 Reward: 1298.54\n",
      "Iter: 340 Reward: 1304.56\n",
      "Iter: 350 Reward: 1310.32\n",
      "Iter: 360 Reward: 1316.42\n",
      "Iter: 370 Reward: 1322.50\n",
      "Iter: 380 Reward: 1326.86\n",
      "Iter: 390 Reward: 1328.37\n",
      "Iter: 400 Reward: 1336.56\n",
      "Iter: 410 Reward: 1335.65\n",
      "Iter: 420 Reward: 1340.60\n",
      "Iter: 430 Reward: 1344.98\n",
      "Iter: 440 Reward: 1350.82\n",
      "Iter: 450 Reward: 1360.00\n",
      "Iter: 460 Reward: 1361.83\n",
      "Iter: 470 Reward: 1369.05\n",
      "Iter: 480 Reward: 1370.90\n",
      "Iter: 490 Reward: 1372.59\n",
      "Iter: 500 Reward: 1372.39\n",
      "Iter: 510 Reward: 1377.07\n",
      "Iter: 520 Reward: 1380.39\n",
      "Iter: 530 Reward: 1382.31\n",
      "Iter: 540 Reward: 1383.05\n",
      "Iter: 550 Reward: 1385.80\n",
      "Iter: 560 Reward: 1392.56\n",
      "Iter: 570 Reward: 1393.25\n",
      "Iter: 580 Reward: 1395.47\n",
      "Iter: 590 Reward: 1395.66\n",
      "Iter: 600 Reward: 1398.64\n",
      "Iter: 610 Reward: 1396.58\n",
      "Iter: 620 Reward: 1402.68\n",
      "Iter: 630 Reward: 1403.38\n",
      "Iter: 640 Reward: 1401.34\n",
      "Iter: 650 Reward: 1407.41\n",
      "Iter: 660 Reward: 1406.85\n",
      "Iter: 670 Reward: 1406.77\n",
      "Iter: 680 Reward: 1412.67\n",
      "Iter: 690 Reward: 1418.44\n",
      "Iter: 700 Reward: 1415.40\n",
      "Iter: 710 Reward: 1423.09\n",
      "Iter: 720 Reward: 1423.81\n",
      "Iter: 730 Reward: 1425.43\n",
      "Iter: 740 Reward: 1426.13\n",
      "Iter: 750 Reward: 1427.20\n",
      "Iter: 760 Reward: 1430.00\n",
      "Iter: 770 Reward: 1425.34\n",
      "Iter: 780 Reward: 1430.48\n",
      "Iter: 790 Reward: 1436.82\n",
      "Iter: 800 Reward: 1437.67\n",
      "Iter: 810 Reward: 1437.14\n",
      "Iter: 820 Reward: 1443.95\n",
      "Iter: 830 Reward: 1445.94\n",
      "Iter: 840 Reward: 1448.97\n",
      "Iter: 850 Reward: 1447.10\n",
      "Iter: 860 Reward: 1450.66\n",
      "Iter: 870 Reward: 1452.72\n",
      "Iter: 880 Reward: 1449.10\n",
      "Iter: 890 Reward: 1452.79\n",
      "Iter: 900 Reward: 1455.28\n",
      "Iter: 910 Reward: 1455.39\n",
      "Iter: 920 Reward: 1458.07\n",
      "Iter: 930 Reward: 1460.91\n",
      "Iter: 940 Reward: 1457.18\n",
      "Iter: 950 Reward: 1462.26\n",
      "Iter: 960 Reward: 1471.25\n",
      "Iter: 970 Reward: 1468.82\n",
      "Iter: 980 Reward: 1469.24\n",
      "Iter: 990 Reward: 1467.39\n"
     ]
    },
    {
     "name": "stderr",
     "output_type": "stream",
     "text": [
      "2022-03-19 15:08:02,452\tWARNING deprecation.py:46 -- DeprecationWarning: `clear_buffer` has been deprecated. Use `Filter.reset_buffer()` instead. This will raise an error in the future!\n"
     ]
    },
    {
     "name": "stdout",
     "output_type": "stream",
     "text": [
      "Iter: 1000 Reward: 1462.30\n"
     ]
    },
    {
     "data": {
      "text/plain": [
       "'Models/Railv2/PPO/checkpoint_001000/checkpoint-1000'"
      ]
     },
     "execution_count": 7,
     "metadata": {},
     "output_type": "execute_result"
    }
   ],
   "source": [
    "results = []\n",
    "\n",
    "for i in range(int(1000)):\n",
    "\n",
    "  res = trainer.train()\n",
    "  results.append(res)\n",
    "\n",
    "  if (i+1) % 10 == 0:\n",
    "    print('Iter: {} Reward: {:.2f}'.format(i+1, res['episode_reward_mean']))\n",
    "\n",
    "trainer.save('Models/Railv2/PPO')"
   ]
  },
  {
   "cell_type": "markdown",
   "metadata": {
    "id": "R37mH3iaOonJ",
    "tags": []
   },
   "source": [
    "# Evaluation"
   ]
  },
  {
   "cell_type": "code",
   "execution_count": 8,
   "metadata": {},
   "outputs": [
    {
     "data": {
      "image/png": "[encoded data removed]",
      "text/plain": [
       "<Figure size 1080x576 with 3 Axes>"
      ]
     },
     "metadata": {
      "needs_background": "light"
     },
     "output_type": "display_data"
    }
   ],
   "source": [
    "plot_metrics(results)"
   ]
  },
  {
   "cell_type": "code",
   "execution_count": 9,
   "metadata": {},
   "outputs": [],
   "source": [
    "# trainer = ppo.PPOTrainer(config=config, env=env_name)\n",
    "# trainer.restore('Models/Railv2/PPO/checkpoint_001000/checkpoint-1000')"
   ]
  },
  {
   "cell_type": "code",
   "execution_count": 10,
   "metadata": {},
   "outputs": [
    {
     "name": "stderr",
     "output_type": "stream",
     "text": [
      "2022-03-19 15:08:52,733\tWARNING deprecation.py:46 -- DeprecationWarning: `compute_action` has been deprecated. Use `Trainer.compute_single_action()` instead. This will raise an error in the future!\n"
     ]
    },
    {
     "name": "stdout",
     "output_type": "stream",
     "text": [
      "Baseline: 87.10602270540697\n",
      "Agent Performance: 83.82528381758706\n"
     ]
    }
   ],
   "source": [
    "eval_env = Railv2_Env(config, split='Test')\n",
    "\n",
    "baseline = evaluate_baseline(eval_env,\n",
    "                             repair_policy=1, \n",
    "                             repair_interval=10)\n",
    "\n",
    "result = evaluate_policy(eval_env, trainer)\n",
    "\n",
    "print('Baseline: {}'.format(baseline.reward.mean()))\n",
    "print('Agent Performance: {}'.format(result.reward.mean()))"
   ]
  },
  {
   "cell_type": "code",
   "execution_count": 11,
   "metadata": {},
   "outputs": [],
   "source": [
    "result.to_csv('Output/Railv2_PPO.csv')"
   ]
  },
  {
   "cell_type": "code",
   "execution_count": 12,
   "metadata": {},
   "outputs": [
    {
     "name": "stdout",
     "output_type": "stream",
     "text": [
      "84.03386569174525\n",
      "81.68712718876276\n",
      "87.11833750240523\n"
     ]
    }
   ],
   "source": [
    "agent, base0, base10 = [], [], []\n",
    "\n",
    "for _ in range(5):\n",
    "    agent.append(evaluate_policy(eval_env, trainer).reward.mean())\n",
    "    base0.append(evaluate_baseline(eval_env,\n",
    "                                   repair_policy=0).reward.mean())\n",
    "    base10.append(evaluate_baseline(eval_env,\n",
    "                                    repair_policy=1, \n",
    "                                    repair_interval=10).reward.mean())\n",
    "\n",
    "print(np.mean(agent))\n",
    "print(np.mean(base0))\n",
    "print(np.mean(base10))"
   ]
  },
  {
   "cell_type": "code",
   "execution_count": 13,
   "metadata": {},
   "outputs": [
    {
     "data": {
      "text/plain": [
       "<BarContainer object of 40 artists>"
      ]
     },
     "execution_count": 13,
     "metadata": {},
     "output_type": "execute_result"
    },
    {
     "data": {
      "image/png": "[encoded data removed]",
      "text/plain": [
       "<Figure size 432x288 with 1 Axes>"
      ]
     },
     "metadata": {
      "needs_background": "light"
     },
     "output_type": "display_data"
    }
   ],
   "source": [
    "import matplotlib.pyplot as plt\n",
    "\n",
    "result.action = result.action.shift(-1)\n",
    "\n",
    "ttf_dist = result[result.action == 0].ttf.value_counts()\n",
    "plt.bar(ttf_dist.index, ttf_dist)"
   ]
  },
  {
   "cell_type": "code",
   "execution_count": 14,
   "metadata": {},
   "outputs": [
    {
     "data": {
      "text/plain": [
       "<BarContainer object of 27 artists>"
      ]
     },
     "execution_count": 14,
     "metadata": {},
     "output_type": "execute_result"
    },
    {
     "data": {
      "image/png": "[encoded data removed]",
      "text/plain": [
       "<Figure size 432x288 with 1 Axes>"
      ]
     },
     "metadata": {
      "needs_background": "light"
     },
     "output_type": "display_data"
    }
   ],
   "source": [
    "age_dist = result[result.action == 0].age.value_counts(normalize=True)\n",
    "plt.bar(age_dist.index, age_dist)"
   ]
  },
  {
   "cell_type": "code",
   "execution_count": 15,
   "metadata": {},
   "outputs": [],
   "source": [
    "# if ttf = 0, agent repair when failed"
   ]
  }
 ],
 "metadata": {
  "colab": {
   "collapsed_sections": [
    "p7EbF9UrOomz",
    "D8VIJ8S8OonD",
    "R37mH3iaOonJ"
   ],
   "name": "RLlib.ipynb",
   "provenance": []
  },
  "interpreter": {
   "hash": "710f117c0da80611284edb736f2e182ec35a2078f1ff4adafd026d7c8ad5d3e7"
  },
  "kernelspec": {
   "display_name": "Python 3",
   "language": "python",
   "name": "python3"
  },
  "language_info": {
   "codemirror_mode": {
    "name": "ipython",
    "version": 3
   },
   "file_extension": ".py",
   "mimetype": "text/x-python",
   "name": "python",
   "nbconvert_exporter": "python",
   "pygments_lexer": "ipython3",
   "version": "3.6.9"
  }
 },
 "nbformat": 4,
 "nbformat_minor": 4
}
