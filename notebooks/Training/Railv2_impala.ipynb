{
 "cells": [
  {
   "cell_type": "markdown",
   "metadata": {
    "id": "p7EbF9UrOomz",
    "jp-MarkdownHeadingCollapsed": true,
    "tags": []
   },
   "source": [
    "# Imports"
   ]
  },
  {
   "cell_type": "code",
   "execution_count": 1,
   "metadata": {
    "colab": {
     "base_uri": "https://localhost:8080/"
    },
    "id": "AX1qYjGZOom4",
    "outputId": "57f569e4-a1f4-49d3-948b-4557de18c7a6"
   },
   "outputs": [],
   "source": [
    "# %%bash\n",
    "\n",
    "# git clone https://github.com/Qiwei97/Gym-PM.git\n",
    "# cd Gym-PM\n",
    "# pip install -e ."
   ]
  },
  {
   "cell_type": "code",
   "execution_count": 2,
   "metadata": {
    "id": "8Bsum-WvOom7"
   },
   "outputs": [],
   "source": [
    "# Import Modules\n",
    "import numpy as np\n",
    "import gym\n",
    "from gym.wrappers.normalize import NormalizeReward\n",
    "\n",
    "import gym_pm\n",
    "from gym_pm.utils import evaluate_baseline, evaluate_policy, plot_metrics\n",
    "from gym_pm.envs import Railv2_Env\n",
    "\n",
    "import ray\n",
    "from ray.tune.registry import register_env\n",
    "from ray.rllib.agents import impala"
   ]
  },
  {
   "cell_type": "markdown",
   "metadata": {
    "id": "D8VIJ8S8OonD",
    "jp-MarkdownHeadingCollapsed": true,
    "tags": []
   },
   "source": [
    "# Environment"
   ]
  },
  {
   "cell_type": "code",
   "execution_count": 3,
   "metadata": {},
   "outputs": [],
   "source": [
    "def env_wrapper(env_config):\n",
    "\n",
    "  wrapped_env = Railv2_Env(**env_config) # Use the appropriate env\n",
    "  wrapped_env = NormalizeReward(wrapped_env)\n",
    "\n",
    "  return wrapped_env  # return an env instance\n",
    "\n",
    "env_name = \"Rail-v2\"\n",
    "register_env(env_name, env_wrapper)"
   ]
  },
  {
   "cell_type": "markdown",
   "metadata": {},
   "source": [
    "# Training"
   ]
  },
  {
   "cell_type": "code",
   "execution_count": 4,
   "metadata": {
    "colab": {
     "base_uri": "https://localhost:8080/"
    },
    "id": "h5oozfcoRmbj",
    "outputId": "fb0d6dba-0177-4ce7-e228-08128b6093b9"
   },
   "outputs": [
    {
     "name": "stderr",
     "output_type": "stream",
     "text": [
      "\u001b[2m\u001b[36m(RolloutWorker pid=8514)\u001b[0m 2022-03-01 10:37:53,232\tWARNING deprecation.py:46 -- DeprecationWarning: `SampleBatch['is_training']` has been deprecated. Use `SampleBatch.is_training` instead. This will raise an error in the future!\n",
      "2022-03-01 10:37:54,934\tWARNING deprecation.py:46 -- DeprecationWarning: `SampleBatch['is_training']` has been deprecated. Use `SampleBatch.is_training` instead. This will raise an error in the future!\n",
      "2022-03-01 10:37:56,417\tINFO trainable.py:127 -- Trainable.setup took 27.200 seconds. If your trainable is slow to initialize, consider setting reuse_actors=True to reduce actor creation overheads.\n"
     ]
    }
   ],
   "source": [
    "config = impala.DEFAULT_CONFIG.copy()\n",
    "# Training Params\n",
    "config['seed'] = 1\n",
    "config['batch_mode'] = 'complete_episodes'\n",
    "config['exploration_config'] = {'type': 'SoftQ'}\n",
    "# Architecture\n",
    "config['replay_proportion'] = 0.3\n",
    "config['replay_buffer_num_slots'] = 1000\n",
    "config['grad_clip'] = 100\n",
    "config['vtrace_clip_rho_threshold'] = 5.\n",
    "config['vtrace_clip_pg_rho_threshold'] = 5.\n",
    "# Multiprocessing\n",
    "config[\"num_gpus\"] = 0\n",
    "config[\"num_workers\"] = 32\n",
    "# Preprocessing\n",
    "config[\"observation_filter\"] = 'MeanStdFilter'\n",
    "config['preprocessor_pref'] = 'rllib'\n",
    "\n",
    "trainer = impala.ImpalaTrainer(config=config, env=env_name)"
   ]
  },
  {
   "cell_type": "code",
   "execution_count": 5,
   "metadata": {
    "colab": {
     "base_uri": "https://localhost:8080/",
     "height": 575
    },
    "id": "VM4yFmfNAmLp",
    "outputId": "aae51a70-4621-4d91-f850-93bf55420959"
   },
   "outputs": [
    {
     "name": "stderr",
     "output_type": "stream",
     "text": [
      "2022-03-01 10:38:41,600\tWARNING deprecation.py:46 -- DeprecationWarning: `slice` has been deprecated. Use `SampleBatch[start:stop]` instead. This will raise an error in the future!\n"
     ]
    },
    {
     "name": "stdout",
     "output_type": "stream",
     "text": [
      "Iter: 10 Reward: 601.42\n",
      "Iter: 20 Reward: 48.04\n",
      "Iter: 30 Reward: 131.57\n",
      "Iter: 40 Reward: 192.49\n",
      "Iter: 50 Reward: 190.45\n",
      "Iter: 60 Reward: 197.38\n",
      "Iter: 70 Reward: 206.57\n",
      "Iter: 80 Reward: 211.70\n",
      "Iter: 90 Reward: 221.08\n",
      "Iter: 100 Reward: 232.97\n",
      "Iter: 110 Reward: 238.54\n",
      "Iter: 120 Reward: 249.64\n",
      "Iter: 130 Reward: 256.18\n",
      "Iter: 140 Reward: 260.05\n",
      "Iter: 150 Reward: 267.25\n",
      "Iter: 160 Reward: 276.35\n",
      "Iter: 170 Reward: 282.52\n",
      "Iter: 180 Reward: 292.35\n",
      "Iter: 190 Reward: 300.67\n",
      "Iter: 200 Reward: 305.89\n",
      "Iter: 210 Reward: 303.83\n",
      "Iter: 220 Reward: 318.14\n",
      "Iter: 230 Reward: 323.37\n",
      "Iter: 240 Reward: 330.10\n",
      "Iter: 250 Reward: 336.97\n",
      "Iter: 260 Reward: 345.48\n",
      "Iter: 270 Reward: 349.53\n",
      "Iter: 280 Reward: 354.36\n",
      "Iter: 290 Reward: 359.36\n",
      "Iter: 300 Reward: 364.87\n",
      "Iter: 310 Reward: 376.40\n",
      "Iter: 320 Reward: 378.98\n",
      "Iter: 330 Reward: 386.98\n",
      "Iter: 340 Reward: 396.06\n",
      "Iter: 350 Reward: 394.93\n",
      "Iter: 360 Reward: 403.19\n",
      "Iter: 370 Reward: 407.86\n",
      "Iter: 380 Reward: 412.55\n",
      "Iter: 390 Reward: 416.49\n",
      "Iter: 400 Reward: 424.31\n",
      "Iter: 410 Reward: 431.12\n",
      "Iter: 420 Reward: 441.08\n",
      "Iter: 430 Reward: 448.89\n",
      "Iter: 440 Reward: 458.97\n",
      "Iter: 450 Reward: 452.45\n",
      "Iter: 460 Reward: 464.43\n",
      "Iter: 470 Reward: 471.96\n",
      "Iter: 480 Reward: 464.94\n",
      "Iter: 490 Reward: 474.61\n",
      "Iter: 500 Reward: 480.67\n",
      "Iter: 510 Reward: 481.60\n",
      "Iter: 520 Reward: 486.68\n",
      "Iter: 530 Reward: 488.94\n",
      "Iter: 540 Reward: 484.92\n",
      "Iter: 550 Reward: 491.82\n",
      "Iter: 560 Reward: 501.23\n",
      "Iter: 570 Reward: 506.96\n",
      "Iter: 580 Reward: 503.52\n",
      "Iter: 590 Reward: 510.84\n",
      "Iter: 600 Reward: 514.44\n",
      "Iter: 610 Reward: 515.88\n",
      "Iter: 620 Reward: 523.42\n",
      "Iter: 630 Reward: 525.66\n",
      "Iter: 640 Reward: 531.46\n",
      "Iter: 650 Reward: 534.17\n",
      "Iter: 660 Reward: 537.17\n",
      "Iter: 670 Reward: 541.06\n",
      "Iter: 680 Reward: 541.66\n",
      "Iter: 690 Reward: 544.34\n",
      "Iter: 700 Reward: 547.60\n",
      "Iter: 710 Reward: 549.67\n",
      "Iter: 720 Reward: 554.23\n",
      "Iter: 730 Reward: 554.99\n",
      "Iter: 740 Reward: 555.19\n",
      "Iter: 750 Reward: 560.80\n",
      "Iter: 760 Reward: 548.87\n",
      "Iter: 770 Reward: 557.61\n",
      "Iter: 780 Reward: 556.00\n",
      "Iter: 790 Reward: 570.91\n",
      "Iter: 800 Reward: 571.57\n",
      "Iter: 810 Reward: 575.02\n",
      "Iter: 820 Reward: 578.06\n",
      "Iter: 830 Reward: 582.31\n",
      "Iter: 840 Reward: 583.29\n",
      "Iter: 850 Reward: 584.82\n",
      "Iter: 860 Reward: 588.84\n",
      "Iter: 870 Reward: 587.59\n",
      "Iter: 880 Reward: 593.47\n",
      "Iter: 890 Reward: 592.70\n",
      "Iter: 900 Reward: 593.63\n",
      "Iter: 910 Reward: 578.44\n",
      "Iter: 920 Reward: 600.77\n",
      "Iter: 930 Reward: 603.22\n",
      "Iter: 940 Reward: 607.32\n",
      "Iter: 950 Reward: 598.52\n",
      "Iter: 960 Reward: 609.34\n",
      "Iter: 970 Reward: 613.34\n",
      "Iter: 980 Reward: 615.75\n",
      "Iter: 990 Reward: 619.24\n",
      "Iter: 1000 Reward: 620.65\n"
     ]
    },
    {
     "data": {
      "text/plain": [
       "'Models/Railv2/Impala/checkpoint_001000/checkpoint-1000'"
      ]
     },
     "execution_count": 5,
     "metadata": {},
     "output_type": "execute_result"
    }
   ],
   "source": [
    "results = []\n",
    "\n",
    "for i in range(int(1000)):\n",
    "\n",
    "  res = trainer.train()\n",
    "  results.append(res)\n",
    "\n",
    "  if (i+1) % 10 == 0:\n",
    "    print('Iter: {} Reward: {:.2f}'.format(i+1, res['episode_reward_mean']))\n",
    "\n",
    "trainer.save('Models/Railv2/Impala')"
   ]
  },
  {
   "cell_type": "markdown",
   "metadata": {
    "id": "R37mH3iaOonJ",
    "tags": []
   },
   "source": [
    "# Evaluation"
   ]
  },
  {
   "cell_type": "code",
   "execution_count": 6,
   "metadata": {},
   "outputs": [
    {
     "data": {
      "image/png": "[encoded data removed]",
      "text/plain": [
       "<Figure size 1080x576 with 3 Axes>"
      ]
     },
     "metadata": {
      "needs_background": "light"
     },
     "output_type": "display_data"
    }
   ],
   "source": [
    "plot_metrics(results)"
   ]
  },
  {
   "cell_type": "code",
   "execution_count": 7,
   "metadata": {},
   "outputs": [],
   "source": [
    "# trainer = impala.ImpalaTrainer(config=config, env=env_name)\n",
    "# trainer.restore('Models/Railv2/Impala/checkpoint_001000/checkpoint-1000')"
   ]
  },
  {
   "cell_type": "code",
   "execution_count": 8,
   "metadata": {},
   "outputs": [
    {
     "name": "stderr",
     "output_type": "stream",
     "text": [
      "2022-03-01 19:42:58,478\tWARNING deprecation.py:46 -- DeprecationWarning: `compute_action` has been deprecated. Use `compute_single_action` instead. This will raise an error in the future!\n"
     ]
    },
    {
     "name": "stdout",
     "output_type": "stream",
     "text": [
      "Baseline: 87.08100827400423\n",
      "Agent Performance: 90.25784106215124\n"
     ]
    }
   ],
   "source": [
    "eval_env = Railv2_Env(config, split='Test')\n",
    "\n",
    "baseline = evaluate_baseline(eval_env,\n",
    "                             repair_policy=1, \n",
    "                             repair_interval=10)\n",
    "\n",
    "result = evaluate_policy(eval_env, trainer)\n",
    "\n",
    "print('Baseline: {}'.format(baseline.reward.mean()))\n",
    "print('Agent Performance: {}'.format(result.reward.mean()))"
   ]
  },
  {
   "cell_type": "code",
   "execution_count": 9,
   "metadata": {},
   "outputs": [],
   "source": [
    "result.to_csv('Output/Railv2_impala.csv')"
   ]
  },
  {
   "cell_type": "code",
   "execution_count": 14,
   "metadata": {},
   "outputs": [
    {
     "name": "stdout",
     "output_type": "stream",
     "text": [
      "90.18356744275545\n",
      "81.43313450067346\n",
      "87.04637290744661\n"
     ]
    }
   ],
   "source": [
    "agent, base0, base10 = [], [], []\n",
    "\n",
    "for _ in range(5):\n",
    "    agent.append(evaluate_policy(eval_env, trainer).reward.mean())\n",
    "    base0.append(evaluate_baseline(eval_env,\n",
    "                                   repair_policy=0).reward.mean())\n",
    "    base10.append(evaluate_baseline(eval_env,\n",
    "                                    repair_policy=1, \n",
    "                                    repair_interval=10).reward.mean())\n",
    "\n",
    "print(np.mean(agent))\n",
    "print(np.mean(base0))\n",
    "print(np.mean(base10))"
   ]
  },
  {
   "cell_type": "code",
   "execution_count": 11,
   "metadata": {},
   "outputs": [],
   "source": [
    "# Outperforms Policy 0"
   ]
  },
  {
   "cell_type": "code",
   "execution_count": 12,
   "metadata": {},
   "outputs": [
    {
     "data": {
      "text/plain": [
       "<BarContainer object of 20 artists>"
      ]
     },
     "execution_count": 12,
     "metadata": {},
     "output_type": "execute_result"
    },
    {
     "data": {
      "image/png": "[encoded data removed]",
      "text/plain": [
       "<Figure size 432x288 with 1 Axes>"
      ]
     },
     "metadata": {
      "needs_background": "light"
     },
     "output_type": "display_data"
    }
   ],
   "source": [
    "import matplotlib.pyplot as plt\n",
    "\n",
    "result.action = result.action.shift(-1)\n",
    "\n",
    "ttf_dist = result[result.action == 0].ttf.value_counts()\n",
    "plt.bar(ttf_dist.index, ttf_dist)"
   ]
  },
  {
   "cell_type": "code",
   "execution_count": 13,
   "metadata": {},
   "outputs": [
    {
     "data": {
      "text/plain": [
       "<BarContainer object of 41 artists>"
      ]
     },
     "execution_count": 13,
     "metadata": {},
     "output_type": "execute_result"
    },
    {
     "data": {
      "image/png": "[encoded data removed]",
      "text/plain": [
       "<Figure size 432x288 with 1 Axes>"
      ]
     },
     "metadata": {
      "needs_background": "light"
     },
     "output_type": "display_data"
    }
   ],
   "source": [
    "age_dist = result[result.action == 0].age.value_counts(normalize=True)\n",
    "plt.bar(age_dist.index, age_dist)"
   ]
  }
 ],
 "metadata": {
  "colab": {
   "collapsed_sections": [
    "p7EbF9UrOomz",
    "D8VIJ8S8OonD",
    "R37mH3iaOonJ"
   ],
   "name": "RLlib.ipynb",
   "provenance": []
  },
  "interpreter": {
   "hash": "710f117c0da80611284edb736f2e182ec35a2078f1ff4adafd026d7c8ad5d3e7"
  },
  "kernelspec": {
   "display_name": "Python 3",
   "language": "python",
   "name": "python3"
  },
  "language_info": {
   "codemirror_mode": {
    "name": "ipython",
    "version": 3
   },
   "file_extension": ".py",
   "mimetype": "text/x-python",
   "name": "python",
   "nbconvert_exporter": "python",
   "pygments_lexer": "ipython3",
   "version": "3.6.9"
  }
 },
 "nbformat": 4,
 "nbformat_minor": 4
}
